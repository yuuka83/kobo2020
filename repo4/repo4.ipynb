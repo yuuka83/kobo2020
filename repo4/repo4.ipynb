{
 "cells": [
  {
   "cell_type": "markdown",
   "metadata": {},
   "source": [
    "# 課題４\n",
    "１８１００８３　井上悠香"
   ]
  },
  {
   "cell_type": "markdown",
   "metadata": {},
   "source": [
    "## Loss関数の一つであるSoftmax with lossレイヤー"
   ]
  },
  {
   "cell_type": "code",
   "execution_count": 103,
   "metadata": {},
   "outputs": [],
   "source": [
    "import numpy as np\n",
    "\n",
    "#交差エントロピー誤差\n",
    "def cross_entropy_error(y, t):\n",
    "    if y.ndim == 1:\n",
    "        t = t.reshape(1, t.size)\n",
    "        y = y.reshape(1,y.size)\n",
    "   # 教師データがone-hot-vectorの場合、正解ラベルのインデックスに変換\n",
    "    if t.size == y.size:\n",
    "        t = t.argmax(axis=1)\n",
    "        batch_size = y.shape[0]\n",
    "        return -np.sum(np.log(y[np.arange(batch_size), t])) / batch_size\n",
    "    \n",
    "def sigmoid(x):\n",
    "    return 1/(1+np.exp(-x))\n",
    "\n",
    "#ソフトマックス関数\n",
    "def softmax(a):\n",
    "    c = np.max(a)\n",
    "    exp_a = np.exp(a-c)\n",
    "    sum_exp_a = np.sum(exp_a)\n",
    "    y = exp_a / sum_exp_a\n",
    "    return y"
   ]
  },
  {
   "cell_type": "code",
   "execution_count": 104,
   "metadata": {},
   "outputs": [],
   "source": [
    "#Softmaxに入れてその後、交差エントロピー誤差を求めて損失を求めるレイヤ　\n",
    "class SoftmaxWithLoss:\n",
    "    def __init__(self):\n",
    "        self.loss = None\n",
    "        self.y = None # softmaxの出力\n",
    "        self.t = None # 教師データ\n",
    "        \n",
    "    def forward(self, x, t):\n",
    "        self.t = t                  #教師データ\n",
    "        self.y = softmax(x)#xを代入して確率を出す。\n",
    "        #損失関数\n",
    "        self.loss = cross_entropy_error(self.y, self.t)\n",
    "        return self.loss\n",
    "    \n",
    "    def backward(self,dout = 1):\n",
    "        batch_size = self.t.shape[0]\n",
    "        dx = (self.y - self.t)/batch_size\n",
    "        return dx"
   ]
  },
  {
   "cell_type": "markdown",
   "metadata": {},
   "source": [
    "# Two layer netにおける勾配の確認"
   ]
  },
  {
   "cell_type": "code",
   "execution_count": 105,
   "metadata": {},
   "outputs": [],
   "source": [
    "#Reluレイヤ\n",
    "class Relu:\n",
    "    def __init__(self):\n",
    "        self.mask = None\n",
    "    def forward(self, x):\n",
    "        self.mask = (x <= 0)\n",
    "        out = x.copy()\n",
    "        out[self.mask] = 0\n",
    "        return out\n",
    "    def backward(self, dout):\n",
    "        dout[self.mask] = 0\n",
    "        dx = dout\n",
    "        return dx\n",
    "    \n",
    "#Affineレイヤ\n",
    "class Affine:\n",
    "    def __init__(self, W, b):\n",
    "        self.W =W\n",
    "        self.b = b\n",
    "        self.x = None\n",
    "        self.original_x_shape = None\n",
    "       # 重み・バイアスパラメータの微分\n",
    "        self.dW = None\n",
    "        self.db = None\n",
    "    def forward(self, x):\n",
    "       # テンソル対応\n",
    "        self.original_x_shape = x.shape\n",
    "        x = x.reshape(x.shape[0], -1)\n",
    "        self.x = x\n",
    "        out = np.dot(self.x, self.W) + self.b\n",
    "        return out\n",
    "    def backward(self, dout):\n",
    "        dx = np.dot(dout, self.W.T)\n",
    "        self.dW = np.dot(self.x.T, dout)\n",
    "        self.db = np.sum(dout, axis=0)\n",
    "        dx = dx.reshape(*self.original_x_shape)  # 入力データの形状に戻す（テンソル対応）\n",
    "        return dx"
   ]
  },
  {
   "cell_type": "code",
   "execution_count": 109,
   "metadata": {},
   "outputs": [],
   "source": [
    "#誤差逆伝播法\n",
    "#重みパラメータに対する勾配を誤差逆伝播法によって求める\n",
    "def gradient(network, x, t):\n",
    "    # 自分で実装したSoftmax with lossクラスを使ってみてください\n",
    "    lastLayer = network.lastLayer      #networkのSoftmaxwithLossレイヤーを使うのでnetwork.lastlayerを入れる\n",
    "    self = network                                #ここでのselfはnetwork\n",
    "    # forward\n",
    "    #self.loss(x, t)\n",
    "    network.loss(x, t)\n",
    "    # backward\n",
    "    dout = 1\n",
    "    dout = lastLayer.backward(dout)\n",
    "    #layers = list(self.layers.values())\n",
    "    layers = list(network.layers.values())\n",
    "    layers.reverse()\n",
    "    for layer in layers:\n",
    "        dout = layer.backward(dout)\n",
    "    # 設定\n",
    "    grads = {}\n",
    "    #grads['W1'], grads['b1'] = self.layers['Affine1'].dW, self.layers['Affine1'].db\n",
    "    grads['W1'], grads['b1'] = network.layers['Affine1'].dW, self.layers['Affine1'].db\n",
    "    #grads['W2'], grads['b2'] = self.layers['Affine2'].dW, self.layers['Affine2'].db\n",
    "    grads['W2'], grads['b2'] = network.layers['Affine2'].dW, self.layers['Affine2'].db\n",
    "    return grads"
   ]
  },
  {
   "cell_type": "code",
   "execution_count": 113,
   "metadata": {},
   "outputs": [],
   "source": [
    "from collections import OrderedDict\n",
    "\n",
    "import sys, os\n",
    "sys.path.append(os.pardir)  # 親ディレクトリのファイルをインポートするための設定\n",
    "from common.functions import *\n",
    "\n",
    "def numerical_grad(f, x):\n",
    "    h = 1e-4 # 0.0001\n",
    "    grad = np.zeros_like(x)\n",
    "    it = np.nditer(x, flags=['multi_index'], op_flags=['readwrite'])\n",
    "    while not it.finished:\n",
    "        idx = it.multi_index\n",
    "        tmp_val = x[idx]\n",
    "        x[idx] = float(tmp_val) + h\n",
    "        fxh1 = f(x) # f(x+h)\n",
    "        x[idx] = tmp_val - h \n",
    "        fxh2 = f(x) # f(x-h)\n",
    "        grad[idx] = (fxh1 - fxh2) / (2*h)\n",
    "        x[idx] = tmp_val # 値を元に戻す\n",
    "        it.iternext()   \n",
    "    return grad\n",
    "\n",
    "\n",
    "#勾配を返すTwoLayerNet\n",
    "class TwoLayerNet:\n",
    "    #\n",
    "    def __init__(self, input_size, hidden_size, output_size, weight_init_std = 0.01):\n",
    "       # 重みの初期化　重みのリストparams\n",
    "        self.params = {}\n",
    "        self.params['W1'] = weight_init_std * np.random.randn(input_size, hidden_size)\n",
    "        self.params['b1'] = np.zeros(hidden_size)\n",
    "        self.params['W2'] = weight_init_std * np.random.randn(hidden_size, output_size) \n",
    "        self.params['b2'] = np.zeros(output_size)\n",
    "       # レイヤの生成  辞書型\n",
    "        self.layers = OrderedDict()\n",
    "        #layers['Affine1']は、Affineレイヤに'W1'の重みと'b1'を与えたもの\n",
    "        self.layers['Affine1'] = Affine(self.params['W1'], self.params['b1'])\n",
    "        #layers['Relu']は、Reluレイヤ\n",
    "        self.layers['Relu1'] = Relu()\n",
    "        #layers['Affine2']は、Affineレイヤに'W2'の重みと'b2'を与えたもの\n",
    "        self.layers['Affine2'] = Affine(self.params['W2'], self.params['b2'])\n",
    "        #上のlayersリストとは別にlastLayerにSoftmaxWithLossレイヤを保存\n",
    "        self.lastLayer = SoftmaxWithLoss() \n",
    "        \n",
    "    def predict(self, x):\n",
    "        #layersに入っているレイヤーを順番に　　Affine1→Relu→Affine2　出力が次の層の入力\n",
    "        for layer in self.layers.values():\n",
    "            x = layer.forward(x)                   #各layerのforward処理していく\n",
    "        return x\n",
    "    \n",
    "    def accuracy(self, x, t):\n",
    "        y = self.predict(x)\n",
    "        #np.argmax(最大値を取得したい配列,軸方向)\n",
    "        y = np.argmax(y, axis=1)\n",
    "        t = np.argmax(t, axis=1)\n",
    "        \n",
    "        accuracy = np.sum(y == t) / float(x.shape[0])\n",
    "        return accuracy\n",
    "          \n",
    "   # x:入力データ, t:教師データ\n",
    "    #損失関数\n",
    "    def loss(self, x, t):\n",
    "        y = self.predict(x)\n",
    "        return self.lastLayer.forward(y, t)\n",
    "    #数値微分\n",
    "    def numerical_gradient(self, x, t):\n",
    "        #損失関数で求めた値をloss_Wに入れる\n",
    "        loss_W = lambda W: self.loss(x, t)\n",
    "        grads = {}\n",
    "        #重みパラメータに対する勾配を数値微分によって求める\n",
    "        grads['W1'] = numerical_grad(loss_W, self.params['W1'])\n",
    "        grads['b1'] = numerical_grad(loss_W, self.params['b1'])\n",
    "        grads['W2'] = numerical_grad(loss_W, self.params['W2'])\n",
    "        grads['b2'] = numerical_grad(loss_W, self.params['b2'])\n",
    "        return grads"
   ]
  },
  {
   "cell_type": "code",
   "execution_count": 117,
   "metadata": {},
   "outputs": [
    {
     "name": "stdout",
     "output_type": "stream",
     "text": [
      "W1:2.818318783926189e-13\n",
      "b1:1.1542968837707778e-12\n",
      "W2:1.0057510494733673e-12\n",
      "b2:1.2057022880096468e-10\n"
     ]
    }
   ],
   "source": [
    "\n",
    "#データを読み込んで実行する\n",
    "import numpy as np\n",
    "from dataset.mnist import load_mnist\n",
    "# データの読み込み\n",
    "(x_train, t_train), (x_test, t_test) = load_mnist(normalize=True, one_hot_label=True)\n",
    "\n",
    "#network 　に TwoLayerNetをインスタンス化して処理\n",
    "network = TwoLayerNet(input_size=784, hidden_size=50, output_size=10)\n",
    "\n",
    "x_batch = x_train[:3]\n",
    "t_batch = t_train[:3]\n",
    "\n",
    "# 数値微分　ネットワーク\n",
    "grad_numerical = network.numerical_gradient(x_batch, t_batch)\n",
    "# Backward\n",
    "grad_backprop = gradient(network, x_batch, t_batch)\n",
    "\n",
    "for key in grad_numerical.keys():\n",
    "    diff = np.average( np.abs(grad_backprop[key] - grad_numerical[key]) )#順伝播の勾配と逆伝播の勾配の差\n",
    "    print(key + \":\" + str(diff))"
   ]
  },
  {
   "cell_type": "markdown",
   "metadata": {},
   "source": [
    "大きくて$1.1205e^{-10}$という十分小さな値が出力された。出力は、順伝播の勾配と逆伝播の勾配の差であるから、順伝播と逆伝播の勾配にはほとんど違いがないことが確認できた。"
   ]
  },
  {
   "cell_type": "markdown",
   "metadata": {},
   "source": [
    "今回のエラー<br>"
   ]
  },
  {
   "cell_type": "code",
   "execution_count": null,
   "metadata": {},
   "outputs": [],
   "source": [
    "<ipython-input-73-ef36eae4638b> in backward(self, dout)\n",
    "     14         return self.loss\n",
    "     15     def backward(self,dout = 1):\n",
    "---> 16         batch_size = self.t.shape[0]\n",
    "     17         dx = (self.y - self.t)/batch_size\n",
    "     18         return dx\n",
    "\n",
    "AttributeError: 'NoneType' object has no attribute 'shape' "
   ]
  },
  {
   "cell_type": "markdown",
   "metadata": {},
   "source": [
    "NoneTypeオブジェクトとは、Noneタイプのオブジェクトであり、値なしを示すオブジェクトのこと。おそらくCでいうNullのようなもの？<br>\n",
    "ここでは、softmaxWithLayer の　self.tがNoneTypeと言われている。softmaxWithLayerのtへの代入は、順伝播(forward)で行われている。逆伝播は順伝播がないとできない。softmaxWithLayerは、TwoNetLayerでは、他のレイヤとは、一つだけ別にlastLayerというレイヤに代入されている。（他のレイヤはlayersリストに入っている。）gradientを実行するときにgradientのlastLayerにnetwork.lastLayerを代入しなきゃいけなかった。\n",
    "参考：[「nonetype」オブジェクトとは何ですか？](https://www.it-swarm.dev/ja/python/%E3%80%8Cnonetype%E3%80%8D%E3%82%AA%E3%83%96%E3%82%B8%E3%82%A7%E3%82%AF%E3%83%88%E3%81%A8%E3%81%AF%E4%BD%95%E3%81%A7%E3%81%99%E3%81%8B%EF%BC%9F/1044227590/)"
   ]
  },
  {
   "cell_type": "markdown",
   "metadata": {},
   "source": [
    "## Two layer netの学習"
   ]
  },
  {
   "cell_type": "code",
   "execution_count": 119,
   "metadata": {},
   "outputs": [
    {
     "name": "stdout",
     "output_type": "stream",
     "text": [
      "0.11916666666666667 0.1168\n",
      "0.90175 0.9027\n",
      "0.9225333333333333 0.9239\n",
      "0.9359666666666666 0.9356\n",
      "0.9438 0.9433\n",
      "0.949 0.9462\n",
      "0.9553 0.9523\n",
      "0.96045 0.9575\n",
      "0.9635666666666667 0.9611\n",
      "0.96715 0.9626\n",
      "0.96845 0.9643\n",
      "0.9712666666666666 0.9649\n",
      "0.9737333333333333 0.9678\n",
      "0.9745333333333334 0.9681\n",
      "0.9759666666666666 0.9691\n",
      "0.9772666666666666 0.9701\n",
      "0.9782166666666666 0.9703\n"
     ]
    },
    {
     "data": {
      "image/png": "[encoded data removed]",
      "text/plain": [
       "<Figure size 432x288 with 1 Axes>"
      ]
     },
     "metadata": {
      "needs_background": "light"
     },
     "output_type": "display_data"
    }
   ],
   "source": [
    "import numpy as np\n",
    "import matplotlib.pyplot as plt\n",
    "from dataset.mnist import load_mnist\n",
    "# データの読み込み\n",
    "(x_train, t_train), (x_test, t_test) = load_mnist(normalize=True, one_hot_label=True)\n",
    "network = TwoLayerNet(input_size=784, hidden_size=50, output_size=10)\n",
    "iters_num = 10000\n",
    "train_size = x_train.shape[0]\n",
    "batch_size = 100\n",
    "learning_rate = 0.1\n",
    "train_loss_list = []\n",
    "train_acc_list = []\n",
    "test_acc_list = []\n",
    "iter_per_epoch = max(train_size / batch_size, 1)\n",
    "for i in range(iters_num):\n",
    "        batch_mask = np.random.choice(train_size, batch_size)\n",
    "        x_batch = x_train[batch_mask]\n",
    "        t_batch = t_train[batch_mask]\n",
    "       # 勾配\n",
    "        #grad = network.numerical_gradient(x_batch, t_batch)\n",
    "       #grad = gradient(x_batch, t_batch)\n",
    "        grad = gradient(network, x_batch, t_batch)\n",
    "       # 更新\n",
    "        for key in ('W1', 'b1', 'W2', 'b2'):\n",
    "            network.params[key] -= learning_rate * grad[key]\n",
    "        loss = network.loss(x_batch, t_batch)\n",
    "        train_loss_list.append(loss)\n",
    "        if i % iter_per_epoch == 0:\n",
    "            train_acc = network.accuracy(x_train, t_train)\n",
    "            test_acc = network.accuracy(x_test, t_test)\n",
    "            train_acc_list.append(train_acc)\n",
    "            test_acc_list.append(test_acc)\n",
    "            print(train_acc, test_acc)\n",
    "\n",
    "markers = {'train': 'o', 'test': 's'}\n",
    "x = np.arange(len(train_acc_list))\n",
    "plt.plot(x, train_acc_list, label='train acc')\n",
    "plt.plot(x, test_acc_list, label='test acc', linestyle='--')\n",
    "plt.xlabel(\"epochs\")\n",
    "plt.ylabel(\"accuracy\")\n",
    "plt.ylim(0, 1.0)\n",
    "plt.legend(loc='lower right')\n",
    "plt.show()"
   ]
  },
  {
   "cell_type": "markdown",
   "metadata": {},
   "source": [
    "前回と同じようにグラフを出力してみた。今回は、誤差逆伝播（gradient）を使用して学習したが、認識精度のグラフは前回と似たような形になった。これは、前の問題で、順伝播の勾配と誤差逆伝播の勾配にほぼ差が無かったことから導かれる結果である。<br>\n",
    "今回も認識精度は高く、最終的に97パーセントになっている。\n",
    "参考：[【学習メモ】ゼロから作るDeep Learning【5章】](https://qiita.com/yakof11/items/5d37042f689760515072)"
   ]
  }
 ],
 "metadata": {
  "kernelspec": {
   "display_name": "Python 3",
   "language": "python",
   "name": "python3"
  },
  "language_info": {
   "codemirror_mode": {
    "name": "ipython",
    "version": 3
   },
   "file_extension": ".py",
   "mimetype": "text/x-python",
   "name": "python",
   "nbconvert_exporter": "python",
   "pygments_lexer": "ipython3",
   "version": "3.7.6"
  }
 },
 "nbformat": 4,
 "nbformat_minor": 4
}
