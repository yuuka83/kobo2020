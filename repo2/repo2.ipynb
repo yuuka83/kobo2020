{
 "cells": [
  {
   "cell_type": "markdown",
   "metadata": {},
   "source": [
    "# 第二回レポート\n",
    "1810083 井上悠香\n",
    "\n",
    "シグモイド関数"
   ]
  },
  {
   "cell_type": "code",
   "execution_count": 8,
   "metadata": {},
   "outputs": [],
   "source": [
    "import matplotlib.pylab as plt\n",
    "import numpy as np\n",
    "\n",
    "def sigmoid(x):\n",
    "    return 1/(1+np.exp(-x))"
   ]
  },
  {
   "cell_type": "markdown",
   "metadata": {},
   "source": [
    "ソフトマックス関数"
   ]
  },
  {
   "cell_type": "code",
   "execution_count": 9,
   "metadata": {},
   "outputs": [],
   "source": [
    "def softmax(a):\n",
    "    c = np.max(a)\n",
    "    exp_a = np.exp(a-c)\n",
    "    sum_exp_a = np.sum(exp_a)\n",
    "    y = exp_a / sum_exp_a\n",
    "    return y"
   ]
  },
  {
   "cell_type": "markdown",
   "metadata": {},
   "source": [
    "3層マルチパーセプトロンによるNN"
   ]
  },
  {
   "cell_type": "code",
   "execution_count": 10,
   "metadata": {
    "scrolled": true
   },
   "outputs": [
    {
     "name": "stdout",
     "output_type": "stream",
     "text": [
      "[[0.31682708 0.69627909]]\n"
     ]
    }
   ],
   "source": [
    "import numpy as np\n",
    "def identity_function(x):\n",
    "    return x\n",
    "\n",
    "def init_network():\n",
    "    network={}\n",
    "    network['W1'] = np.array([[0.1, 0.3, 0.5], [0.2, 0.4, 0.6]])\n",
    "    network['b1'] = np.array([[0.1, 0.2, 0.3]])\n",
    "    network['W2'] = np.array([[0.1, 0.4], [0.2, 0.5], [0.3, 0.6]])\n",
    "    network['b2'] = np.array([[0.1, 0.2]])\n",
    "    network['W3'] = np.array([[0.1, 0.3], [0.2, 0.4]])\n",
    "    network['b3'] = np.array([[0.1, 0.2]])\n",
    "    return network\n",
    "\n",
    "def forward(network, x):\n",
    "    # layer 1\n",
    "    W1=network['W1']\n",
    "    b1=network['b1']\n",
    "    W2=network['W2']\n",
    "    b2=network['b2']\n",
    "    W3=network['W3']\n",
    "    b3=network['b3']\n",
    "    a1=np.dot(x,W1)+b1\n",
    "    z1=sigmoid(a1)\n",
    "    a2 =np.dot(z1,W2)+b2\n",
    "    z2 = sigmoid(a2)\n",
    "    a3 = np.dot(z2,W3)+b3\n",
    "    y = identity_function(a3)\n",
    "    return y\n",
    "\n",
    "network = init_network()\n",
    "x=np.array([1.0,0.5])\n",
    "y=forward(network,x)\n",
    "print(y) #[0.31682708 0.69627909]"
   ]
  },
  {
   "cell_type": "markdown",
   "metadata": {},
   "source": [
    "バッチ処理"
   ]
  },
  {
   "cell_type": "code",
   "execution_count": 13,
   "metadata": {},
   "outputs": [
    {
     "name": "stdout",
     "output_type": "stream",
     "text": [
      "[[0.67723327 0.09954505]\n",
      " [0.89745072 0.07287157]\n",
      " [0.98518225 0.24331173]\n",
      " ...\n",
      " [0.94381402 0.37882077]\n",
      " [0.1619652  0.52008253]\n",
      " [0.63148073 0.96248472]]\n",
      "[[0.31682708 0.69627909]]\n"
     ]
    }
   ],
   "source": [
    "import numpy as np\n",
    "import random  \n",
    "\n",
    "network = init_network()\n",
    "batch_size = 16\n",
    "x=np.random.rand(1000,2)\n",
    "for i in range(0,len(x),batch_size):\n",
    "    x_batch = x[i:i+batch_size]\n",
    "    y_batch = forward(network,x_batch)\n",
    "print(x)\n",
    "print(y)"
   ]
  },
  {
   "cell_type": "markdown",
   "metadata": {},
   "source": [
    "# 感想\n",
    "活性化関数を使うことで、重みをつけて足し合わせたデータの重要度を測れることがわかった。初め、活性化関数が出てきたとき何ができるのかよくわからなかったが、活性化関数を使うことで人間の扱いやすいデータに変換しているのだと思った。今は一旦、あくまで道具のようなものなのだと思う。\n",
    "今回の演習で、行列を使うことのありがたみがわかった。for文を回さなくても一層におけるニューロンが計算できるのはとても楽だった。"
   ]
  }
 ],
 "metadata": {
  "kernelspec": {
   "display_name": "Python 3",
   "language": "python",
   "name": "python3"
  },
  "language_info": {
   "codemirror_mode": {
    "name": "ipython",
    "version": 3
   },
   "file_extension": ".py",
   "mimetype": "text/x-python",
   "name": "python",
   "nbconvert_exporter": "python",
   "pygments_lexer": "ipython3",
   "version": "3.6.10"
  }
 },
 "nbformat": 4,
 "nbformat_minor": 4
}
